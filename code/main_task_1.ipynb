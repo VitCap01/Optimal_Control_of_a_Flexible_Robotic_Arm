{
 "cells": [
  {
   "cell_type": "markdown",
   "metadata": {},
   "source": [
    "# Required Libraries and Modules"
   ]
  },
  {
   "cell_type": "code",
   "execution_count": 1,
   "metadata": {},
   "outputs": [],
   "source": [
    "import numpy as np\n",
    "import matplotlib.pyplot as plt\n",
    "from ref_curve_task1 import ref\n",
    "import dynamics as dyn\n",
    "from Reg_Newton_Method import Newton_reg\n",
    "from plots import traj_gen_plot\n",
    "from plots import traj_gen_plot,traj_track_plot,track_error_plot\n",
    "from mpc import mpc_controller1,mpc_controller2\n",
    "\n",
    "\n",
    "\n",
    "\n",
    "# Allow Ctrl-C to work despite plotting\n",
    "import signal\n",
    "\n",
    "signal.signal(signal.SIGINT, signal.SIG_DFL)\n",
    "\n",
    "#######################################\n",
    "# Parameters from dynamics\n",
    "#######################################\n",
    "\n",
    "# Number of states\n",
    "ns = dyn.ns\n",
    "# Number of inputs\n",
    "ni = dyn.ni"
   ]
  },
  {
   "cell_type": "markdown",
   "metadata": {},
   "source": [
    "# Reference curve for trajectory generation"
   ]
  },
  {
   "cell_type": "code",
   "execution_count": 2,
   "metadata": {},
   "outputs": [],
   "source": [
    "#######################################\n",
    "# Trajectory parameters\n",
    "#######################################\n",
    "\n",
    "# Final time in seconds\n",
    "tf = 20\n",
    "# discretization step from dynamics\n",
    "dt = dyn.dt   \n",
    "# discrete-time samples\n",
    "T = int(tf/dt) \n",
    "\n",
    "######################################\n",
    "# Reference curve\n",
    "######################################\n",
    "\n",
    "# Flag to use a step reference or a cubic polynomial transition between two equilibria\n",
    "step_ref = False\n",
    "\n",
    "# Two equilibria for x1\n",
    "x1_eq1_deg = -20\n",
    "x1_eq2_deg = 30\n",
    "\n",
    "# Reference curve between the two equilibria\n",
    "xref,uref = ref(step_ref,T,x1_eq1_deg,x1_eq2_deg)"
   ]
  },
  {
   "cell_type": "markdown",
   "metadata": {},
   "source": [
    "# Trajectory generation with Newton's method"
   ]
  },
  {
   "cell_type": "code",
   "execution_count": 3,
   "metadata": {},
   "outputs": [],
   "source": [
    "#######################################\n",
    "# Newton algorithm parameters\n",
    "#######################################\n",
    "\n",
    "# Maximum number of iterations of Newton's method\n",
    "maxiters = 100\n",
    "fixed_stepsize = 1 # not used\n",
    "\n",
    "# Armijo parameters\n",
    "stepsize_0 = 1\n",
    "c = 0.5\n",
    "beta = 0.7\n",
    "armijo_maxiters = 20 \n",
    "term_cond = 1e-5 \n",
    "\n",
    "#############################################################\n",
    "# Weight matrices for cost function for trajectory generation\n",
    "#############################################################\n",
    "\n",
    "Qt = np.diag([1000,1000,10,10])\n",
    "Rt = 1*np.eye(ni)\n",
    "QT = Qt\n",
    "\n",
    "######################################\n",
    "# Initial guess for the Newton method\n",
    "######################################\n",
    "\n",
    "xinit = np.repeat(xref[:,0].reshape(-1,1), T, axis=1)\n",
    "uinit = np.repeat(uref[:,0].reshape(-1,1), T, axis=1)\n",
    "\n",
    "######################################\n",
    "# Newton's method\n",
    "######################################\n",
    "\n",
    "# Flag used to show or not plots in Newton_reg function (cost and descent direction norm)\n",
    "show =  False\n",
    "# Flag used to show trajectories at each iteration of Newton's method\n",
    "traj_show = False\n",
    "# Flag used to show or not the descent armijo plot\n",
    "descent_plot = False\n",
    "\n",
    "x,u,maxiters = Newton_reg(xref,uref,xinit,uinit,T,dt,maxiters,Qt,Rt,QT,\n",
    "                          stepsize_0,beta,c,armijo_maxiters,show,traj_show,descent_plot,term_cond=term_cond)\n",
    "\n",
    "# Optimal trajectory\n",
    "\n",
    "xstar = x[:,:,maxiters-1]\n",
    "ustar = u[:,:,maxiters-1]"
   ]
  },
  {
   "cell_type": "markdown",
   "metadata": {},
   "source": [
    "# Trajectory generation plots"
   ]
  },
  {
   "cell_type": "code",
   "execution_count": null,
   "metadata": {},
   "outputs": [],
   "source": [
    "######################################\n",
    "# Trajectory generation plots\n",
    "######################################\n",
    "\n",
    "ustar[:,-1] = ustar[:,-2] # for plotting purposes\n",
    "tt_hor = np.linspace(0, tf, T)\n",
    "\n",
    "# Optimal trajectory and reference curve\n",
    "traj_gen_plot(tt_hor,xstar,xref,ustar,uref,ns)"
   ]
  },
  {
   "cell_type": "markdown",
   "metadata": {},
   "source": [
    "# Trajectory tracking with MPC "
   ]
  },
  {
   "cell_type": "code",
   "execution_count": 50,
   "metadata": {},
   "outputs": [],
   "source": [
    "#######################################\n",
    "# Trajectory tracking with mpc (Task4)\n",
    "#######################################\n",
    "\n",
    "# weight matrices for the regulator\n",
    "#Qmpc = np.diag([10000,10000,100,100])\n",
    "#Rmpc = 0.001*np.eye(ni)\n",
    "#QTmpc = Qmpc\n",
    "\n",
    "Qmpc = np.diag([100000,100000,0.1,0.1])\n",
    "Rmpc = 0.001*np.eye(ni)\n",
    "QTmpc = 10*Qmpc\n",
    "\n",
    "# Nominal x0 of the reference trajectory \n",
    "x0 = np.array([xstar[0,0],xstar[1,0],xstar[2,0],xstar[3,0]])\n",
    "# Noise\n",
    "noise = np.array([0.1, -0.1, 0, 0])\n",
    "# Perturbed initial condition\n",
    "x0 = x0 + noise\n",
    "#Prediction horizon\n",
    "pred_hor = 5\n",
    "# Flag to choose the desired mpc function\n",
    "mpc1 = True\n",
    "\n",
    "# Real trajectory followed by the robot with mpc\n",
    "if mpc1:\n",
    "    xreal_mpc,ureal_mpc = mpc_controller1(xstar,ustar,noise,pred_hor,Qmpc,Rmpc,QTmpc)\n",
    "else:\n",
    "    xreal_mpc,ureal_mpc = mpc_controller2(Qmpc,Rmpc,QTmpc,xstar,ustar,x0,T,pred_hor)"
   ]
  },
  {
   "cell_type": "markdown",
   "metadata": {},
   "source": [
    "# Trajectory tracking with MPC plots"
   ]
  },
  {
   "cell_type": "code",
   "execution_count": null,
   "metadata": {},
   "outputs": [],
   "source": [
    "######################################\n",
    "# Trajectory tracking with MPC plots\n",
    "######################################\n",
    "ureal_mpc[:,-1] = ureal_mpc[:,-2] # for plotting purposes\n",
    "\n",
    "sim_steps = xreal_mpc.shape[1]\n",
    "xdes = xstar[:,:sim_steps]\n",
    "udes = ustar[:,:sim_steps]\n",
    "\n",
    "# Final time\n",
    "final_time = sim_steps*dt\n",
    "\n",
    "time = np.linspace(0, final_time, sim_steps)\n",
    "\n",
    "# Trajectory tracking plots\n",
    "traj_track_plot(time,xreal_mpc,xdes,ureal_mpc,udes,ns)\n",
    "\n",
    "# Tracking error plots\n",
    "track_error_plot(time,xreal_mpc,xdes,ureal_mpc,udes,ns)"
   ]
  }
 ],
 "metadata": {
  "kernelspec": {
   "display_name": "Python 3",
   "language": "python",
   "name": "python3"
  },
  "language_info": {
   "codemirror_mode": {
    "name": "ipython",
    "version": 3
   },
   "file_extension": ".py",
   "mimetype": "text/x-python",
   "name": "python",
   "nbconvert_exporter": "python",
   "pygments_lexer": "ipython3",
   "version": "3.12.0"
  }
 },
 "nbformat": 4,
 "nbformat_minor": 2
}
