{
 "cells": [
  {
   "cell_type": "markdown",
   "metadata": {},
   "source": [
    "# Required Libraries and Modules"
   ]
  },
  {
   "cell_type": "code",
   "execution_count": null,
   "metadata": {},
   "outputs": [],
   "source": [
    "import numpy as np\n",
    "import matplotlib.pyplot as plt\n",
    "from ref_curve_task2 import reference_curve\n",
    "import dynamics as dyn\n",
    "from Reg_Newton_Method import Newton_reg\n",
    "from LQR import lqr_affine\n",
    "from dynamics import dt\n",
    "from LQR_tracking import lqr_track\n",
    "from animation import animation\n",
    "from plots import traj_gen_plot,traj_track_plot,track_error_plot\n",
    "from mpc import mpc_controller1,mpc_controller2\n",
    "\n",
    "\n",
    "\n",
    "# Allow Ctrl-C to work despite plotting\n",
    "import signal\n",
    "\n",
    "signal.signal(signal.SIGINT, signal.SIG_DFL)\n",
    "\n",
    "#######################################\n",
    "# Parameters from dynamics\n",
    "#######################################\n",
    "\n",
    "# Number of states\n",
    "ns = dyn.ns\n",
    "# Number of inputs\n",
    "ni = dyn.ni"
   ]
  },
  {
   "cell_type": "markdown",
   "metadata": {},
   "source": [
    "# Reference curve for trajectory generation"
   ]
  },
  {
   "cell_type": "code",
   "execution_count": 2,
   "metadata": {},
   "outputs": [],
   "source": [
    "######################################################\n",
    "# Reference curve and number of discrete time samples\n",
    "######################################################\n",
    "\n",
    "xref,uref,T = reference_curve()\n",
    "xref = xref.T\n",
    "uref = uref.reshape(1, -1)\n",
    "\n",
    "# Set the reference angular velocities constant equal to 0\n",
    "xref[2,:]=0\n",
    "xref[3,:]=0\n"
   ]
  },
  {
   "cell_type": "markdown",
   "metadata": {},
   "source": [
    "# Trajectory generation with Newton's method"
   ]
  },
  {
   "cell_type": "code",
   "execution_count": null,
   "metadata": {},
   "outputs": [],
   "source": [
    "#######################################\n",
    "# Newton algorithm parameters\n",
    "#######################################\n",
    "\n",
    "# Maximum number of iterations for Newton's method\n",
    "maxiters = 100\n",
    "fixed_stepsize = 1 #(not used)\n",
    "\n",
    "# Armijo parameters\n",
    "stepsize_0 = 1\n",
    "c = 0.5\n",
    "beta = 0.7\n",
    "armijo_maxiters = 20 \n",
    "term_cond = 1e-5 \n",
    "\n",
    "#############################################################\n",
    "# Weight matrices for cost function for trajectory generation\n",
    "#############################################################\n",
    "\n",
    "Qt = np.diag([100000,100000,0.01,0.01])\n",
    "Rt = 100*np.eye(ni)\n",
    "QT = Qt\n",
    "\n",
    "######################################\n",
    "# Initial guess for the Newton method\n",
    "######################################\n",
    "\n",
    "xinit = np.repeat(xref[:,0].reshape(-1,1), T, axis=1)\n",
    "uinit = np.repeat(uref[:,0].reshape(-1,1), T, axis=1)\n",
    "\n",
    "######################################\n",
    "# Newton's method\n",
    "######################################\n",
    "\n",
    "# Flag used to show or not plots in Newton_reg function (cost and descent direction norm)\n",
    "show = False\n",
    "# Flag used to show trajectories at each iteration of Newton's method\n",
    "traj_show = False\n",
    "# Flag used to show or not the descent armijo plot\n",
    "descent_plot = False\n",
    "\n",
    "x,u,maxiters = Newton_reg(xref,uref,xinit,uinit,T,dt,maxiters,Qt,Rt,QT,\n",
    "                          stepsize_0,beta,c,armijo_maxiters,show,traj_show,descent_plot,term_cond=term_cond)\n",
    "\n",
    "# Optimal trajectory\n",
    "xstar = x[:,:,maxiters-1]\n",
    "ustar = u[:,:,maxiters-1]"
   ]
  },
  {
   "cell_type": "markdown",
   "metadata": {},
   "source": [
    "# Plots"
   ]
  },
  {
   "cell_type": "code",
   "execution_count": 4,
   "metadata": {},
   "outputs": [],
   "source": [
    "ustar[:,-1] = ustar[:,-2] # for plotting purposes\n",
    "\n",
    "# Final time\n",
    "tf = T*dt\n",
    "\n",
    "t_hor = np.linspace(0, tf, T)"
   ]
  },
  {
   "cell_type": "markdown",
   "metadata": {},
   "source": [
    "# Trajectory generation plots"
   ]
  },
  {
   "cell_type": "code",
   "execution_count": null,
   "metadata": {},
   "outputs": [],
   "source": [
    "######################################\n",
    "# Trajectory generation plots\n",
    "######################################\n",
    "\n",
    "# Optimal trajectory and reference curve\n",
    "\n",
    "traj_gen_plot(t_hor,xstar,xref,ustar,uref,ns)"
   ]
  },
  {
   "cell_type": "markdown",
   "metadata": {},
   "source": [
    "# Trajectory tracking with LQR "
   ]
  },
  {
   "cell_type": "code",
   "execution_count": 8,
   "metadata": {},
   "outputs": [],
   "source": [
    "#######################################\n",
    "# Trajectory tracking with LQR (Task3)\n",
    "#######################################\n",
    "\n",
    "# weight matrices for the regulator\n",
    "Qreg = np.diag([10000,10000,100,100])\n",
    "Rreg = 1*np.eye(ni)\n",
    "QTreg = Qreg\n",
    "\n",
    "# Nominal x0 of the reference trajectory \n",
    "x0 = np.array([xstar[0,0],xstar[1,0],xstar[2,0],xstar[3,0]])\n",
    "# Noise\n",
    "#noise = np.array([0.3,-0.4, 0, 0])\n",
    "noise = np.array([0.5,-0.6, 0.2, 0.2])\n",
    "# Perturbed initial condition\n",
    "x0 = x0 + noise\n",
    "\n",
    "# Real trajectory followed by the robot with lqr\n",
    "xreal_lqr,ureal_lqr = lqr_track(xstar,ustar,T,Qreg,Rreg,QTreg,x0)"
   ]
  },
  {
   "cell_type": "markdown",
   "metadata": {},
   "source": [
    "# Trajectory tracking with LQR plots"
   ]
  },
  {
   "cell_type": "code",
   "execution_count": null,
   "metadata": {},
   "outputs": [],
   "source": [
    "######################################\n",
    "# Trajectory tracking with LQR plots\n",
    "######################################\n",
    "ureal_lqr[:,-1] = ureal_lqr[:,-2] # for plotting purposes\n",
    "\n",
    "# Trajectory tracking plots\n",
    "traj_track_plot(t_hor,xreal_lqr,xstar,ureal_lqr,ustar,ns)\n",
    "\n",
    "# Tracking error plots\n",
    "track_error_plot(t_hor,xreal_lqr,xstar,ureal_lqr,ustar,ns)\n"
   ]
  },
  {
   "cell_type": "markdown",
   "metadata": {},
   "source": [
    "# Trajectory tracking with MPC "
   ]
  },
  {
   "cell_type": "code",
   "execution_count": 14,
   "metadata": {},
   "outputs": [],
   "source": [
    "#######################################\n",
    "# Trajectory tracking with mpc (Task4)\n",
    "#######################################\n",
    "\n",
    "# weight matrices for the regulator\n",
    "Qmpc = np.diag([10000,10000,100,100])\n",
    "Rmpc = 0.001*np.eye(ni)\n",
    "QTmpc = Qmpc\n",
    "\n",
    "# Nominal x0 of the reference trajectory \n",
    "x0 = np.array([xstar[0,0],xstar[1,0],xstar[2,0],xstar[3,0]])\n",
    "# Noise\n",
    "noise = np.array([0.1, -0.1, 0, 0])\n",
    "# Perturbed initial condition\n",
    "x0 = x0 + noise\n",
    "#Prediction horizon\n",
    "pred_hor = 5\n",
    "# Flag to choose the desired mpc function\n",
    "mpc1 = True\n",
    "\n",
    "# Real trajectory followed by the robot with mpc\n",
    "if mpc1:\n",
    "    xreal_mpc,ureal_mpc = mpc_controller1(xstar,ustar,noise,pred_hor,Qmpc,Rmpc,QTmpc)\n",
    "else:\n",
    "    xreal_mpc,ureal_mpc = mpc_controller2(Qmpc,Rmpc,QTmpc,xstar,ustar,x0,T,pred_hor)"
   ]
  },
  {
   "cell_type": "markdown",
   "metadata": {},
   "source": [
    "\n",
    "# Trajectory tracking with MPC plots "
   ]
  },
  {
   "cell_type": "code",
   "execution_count": null,
   "metadata": {},
   "outputs": [],
   "source": [
    "######################################\n",
    "# Trajectory tracking with MPC plots\n",
    "######################################\n",
    "ureal_mpc[:,-1] = ureal_mpc[:,-2] # for plotting purposes\n",
    "\n",
    "sim_steps = xreal_mpc.shape[1]\n",
    "xdes = xstar[:,:sim_steps]\n",
    "udes = ustar[:,:sim_steps]\n",
    "\n",
    "# Final time\n",
    "final_time = sim_steps*dt\n",
    "\n",
    "time = np.linspace(0, final_time, sim_steps)\n",
    "\n",
    "# Trajectory tracking plots\n",
    "traj_track_plot(time,xreal_mpc,xdes,ureal_mpc,udes,ns)\n",
    "\n",
    "# Tracking error plots\n",
    "track_error_plot(time,xreal_mpc,xdes,ureal_mpc,udes,ns)\n"
   ]
  },
  {
   "cell_type": "markdown",
   "metadata": {},
   "source": [
    "# Animation of the robot "
   ]
  },
  {
   "cell_type": "code",
   "execution_count": 10,
   "metadata": {},
   "outputs": [],
   "source": [
    "#########################################\n",
    "# Animation of the robot executing task 3\n",
    "#########################################\n",
    "\n",
    "animation(xreal_lqr,xstar)"
   ]
  }
 ],
 "metadata": {
  "kernelspec": {
   "display_name": "Python 3",
   "language": "python",
   "name": "python3"
  },
  "language_info": {
   "codemirror_mode": {
    "name": "ipython",
    "version": 3
   },
   "file_extension": ".py",
   "mimetype": "text/x-python",
   "name": "python",
   "nbconvert_exporter": "python",
   "pygments_lexer": "ipython3",
   "version": "3.12.0"
  }
 },
 "nbformat": 4,
 "nbformat_minor": 2
}
